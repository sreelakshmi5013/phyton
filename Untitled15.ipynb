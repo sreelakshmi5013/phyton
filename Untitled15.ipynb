{
  "nbformat": 4,
  "nbformat_minor": 0,
  "metadata": {
    "colab": {
      "name": "Untitled15.ipynb",
      "provenance": [],
      "authorship_tag": "ABX9TyOLZhAnBcHVWIPXu8sIbAaL",
      "include_colab_link": true
    },
    "kernelspec": {
      "name": "python3",
      "display_name": "Python 3"
    }
  },
  "cells": [
    {
      "cell_type": "markdown",
      "metadata": {
        "id": "view-in-github",
        "colab_type": "text"
      },
      "source": [
        "<a href=\"https://colab.research.google.com/github/sreelakshmi5013/phyton/blob/master/Untitled15.ipynb\" target=\"_parent\"><img src=\"https://colab.research.google.com/assets/colab-badge.svg\" alt=\"Open In Colab\"/></a>"
      ]
    },
    {
      "cell_type": "code",
      "metadata": {
        "id": "lFOfgP6vmBZL",
        "colab_type": "code",
        "colab": {}
      },
      "source": [
        " \n",
        "@@ -0,0 +1,19 @@Write a Python program to append text to a file and display the text.In [164]:f=open(\"python.txt\",\"w\")f.close()In [165]:f=open(\"python1.txt\",\"w\")f.write(\"hey how do you do\")f.close()In [166]:f=open(\"python1.txt\",\"r\")print(f.read())f.close()hey how do you doIn [167]:f=open(\"python1.txt\",\"a\")s='''am    Fine'''f.write(s)f.close() \n",
        " 14  entiretxtfile.py \n",
        "@@ -0,0 +1,14 @@1.write a python program to read an entire text file\n",
        "In [2]:f=open(\"python.txt\",\"w\")f.close()In [3]:f=open(\"python1.txt\",\"w\")f.write(\"hey how do you do\")f.close()In [4]:f=open(\"python1.txt\",\"r\")str=f.read()print(str)f.close() \n",
        " 19  fileintoanother.py \n",
        "@@ -0,0 +1,19 @@10.write a python program to copy the contents of a file into another.\n",
        "In [154]:file1=open(\"f1.txt\",\"w\")file1.close()In [173]:file1=open(\"f1.txt\",\"w\")s='''welcome      to gitam      University'''file1.write(s)file1.close()In [174]:file2=open(\"f2.txt\",\"w\")file1=open(\"f1.txt\",\"r\")for line in file1:  file2.write(line)file1.close()file2.close() \n",
        " 14  lastnlines.py \n",
        "@@ -0,0 +1,14 @@4.Write a Python program to read last n lines of a file.\n",
        "In [56]:def LastNlines(fname, N):  with open(fname) as file:    for line in (file.readlines() [-N:]):      print(line, end ='')if __name__ == '__main__':  fname = 'File1.txt'  N = 3  try:   LastNlines(fname, N)   except:   print('File not found') \n",
        " 11  nlinesofatxt.py \n",
        "@@ -0,0 +1,11 @@2.write a python program to read first n lines of a file\n",
        "In [62]:a_file=open(\"file_name.txt\",\"w\")f.close()In [66]:a_file = open(\"file_name.txt\")number_of_lines = 3for i in range(number_of_lines):    line = a_file.readline()print(line) \n",
        " 12  plainfile.py \n",
        "@@ -0,0 +1,12 @@9.write a python program to get the file size of a plain file.\n",
        "In [124]:file=open(\"test.txt\",\"w\")f.close()In [134]:file=open(\"test.txt\",\"w\")file.write(\"good night\")f.close()In [135]:import osos.path.getsize(\"test.txt\") \n",
        " 13  storeintoalist.py \n",
        "@@ -0,0 +1,13 @@6.write a program to read a file line by line store it into a list\n",
        "In [97]:infile=open(\"test.txt\",\"w\")f.close()In [103]:infile=open(\"test1.txt\",\"w\")infile.write(\"hello\")f.close()In [104]:infile = \"test1.txt\"content_list = open(infile).readlines()print (content_list) \n",
        " 16  storeintoanarray.py \n",
        "@@ -0,0 +1,16 @@7.write a python program to read a file line by line store it into a array.\n",
        "In [110]:f2=open(\"test1.txt\",\"w\")f.close()In [117]:f2=open(\"test1.txt\",\"w\")s='''how     are     You'''f2.write(s)f.close()In [118]:f2=(\"test1.txt\")content_array=open(f2).readlines()print(content_array) \n",
        " 17  storeintoatxtfile.py \n",
        "@@ -0,0 +1,17 @@.Write a Python program to count the number of lines in a text file.\n",
        "In [120]:f3=open(\"file.txt\",\"w\")f3.close()In [121]:f3=open(\"file.txt\",\"w\")s='''i     love to     Code'''f3.write(s)f3.close()In [122]:f3=open(\"file.txt\",\"r\")s=f3.read()print(len(s.split('\\n')))f.close() \n",
        " 12  storeintoavariable.py \n",
        "@@ -0,0 +1,12 @@5.Write a Python program to read a file line by line store it into a variable.\n",
        "In [105]:f1=open(\"test.txt\",\"w\")f.close()In [106]:f1=open(\"test1.txt\",\"w\")f1.write(\"hi\")f.close()In [109]:f1=open('test1.txt').readlines()print(f1)"
      ],
      "execution_count": null,
      "outputs": []
    }
  ]
}