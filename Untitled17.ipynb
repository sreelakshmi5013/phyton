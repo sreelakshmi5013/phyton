{
  "nbformat": 4,
  "nbformat_minor": 0,
  "metadata": {
    "colab": {
      "name": "Untitled17.ipynb",
      "provenance": [],
      "authorship_tag": "ABX9TyMO8hiTxfZXEo3zsUsPmZjQ",
      "include_colab_link": true
    },
    "kernelspec": {
      "name": "python3",
      "display_name": "Python 3"
    }
  },
  "cells": [
    {
      "cell_type": "markdown",
      "metadata": {
        "id": "view-in-github",
        "colab_type": "text"
      },
      "source": [
        "<a href=\"https://colab.research.google.com/github/sreelakshmi5013/phyton/blob/master/Untitled17.ipynb\" target=\"_parent\"><img src=\"https://colab.research.google.com/assets/colab-badge.svg\" alt=\"Open In Colab\"/></a>"
      ]
    },
    {
      "cell_type": "code",
      "metadata": {
        "id": "5Od3dWnG3clO",
        "colab_type": "code",
        "colab": {}
      },
      "source": [
        " \n",
        "In [ ]:\n",
        " \n",
        "1.Write a python program to create a tuple\n",
        "In [8]:\n",
        "my_tuple = (\"hello\",)\n",
        "print(my_tuple)\n",
        "('hello',)\n",
        " \n",
        "2.write a python program to create a tuple with different data types.\n",
        "In [4]:\n",
        "# Different types of tuples\n",
        " \n",
        "# Empty tuple\n",
        "my_tuple = ()\n",
        "print(my_tuple)\n",
        " \n",
        "# Tuple having integers\n",
        "my_tuple = (1, 2, 3)\n",
        "print(my_tuple)\n",
        " \n",
        "# tuple with mixed datatypes\n",
        "my_tuple = (1, \"Hello\", 3.4)\n",
        "print(my_tuple)\n",
        " \n",
        "# nested tuple\n",
        "my_tuple = (\"mouse\", [8, 4, 6], (1, 2, 3))\n",
        "print(my_tuple)\n",
        "()\n",
        "(1, 2, 3)\n",
        "(1, 'Hello', 3.4)\n",
        "('mouse', [8, 4, 6], (1, 2, 3))\n",
        " \n",
        "3.write a python program to convert a tuple to a string.\n",
        "In [10]:\n",
        "tup = ('p', 'y', 't', 'h', 'o','n')\n",
        "str =  ''.join(tup)\n",
        "print(str)\n",
        "python\n",
        " \n",
        "4.write a python program to slice a tuple.\n",
        "In [11]:\n",
        "tuplex = tuple(\"HELLO WORLD\")\n",
        "print(tuplex)\n",
        " _slice = tuplex[2:9:2]\n",
        "print(_slice) \n",
        " _slice = tuplex[::4]\n",
        "print(_slice)\n",
        " _slice = tuplex[9:2:-4]\n",
        "print(_slice)\n",
        "('H', 'E', 'L', 'L', 'O', ' ', 'W', 'O', 'R', 'L', 'D')\n",
        "('L', 'O', 'W', 'R')\n",
        "('H', 'O', 'R')\n",
        "('L', ' ')\n",
        " \n",
        "5.Write a python program to the length of a tuple.\n",
        "In [12]:\n",
        "tuplex = tuple(\"python programming\")\n",
        "print(tuplex)\n",
        "print(len(tuplex))\n",
        "('p', 'y', 't', 'h', 'o', 'n', ' ', 'p', 'r', 'o', 'g', 'r', 'a', 'm', 'm', 'i', 'n', 'g')\n",
        "18\n",
        " \n",
        "6.write a python program to reverse a tuple\n",
        "In [13]:\n",
        "x = (\"python\")\n",
        "y = reversed(x)\n",
        "print(tuple(y))\n",
        "('n', 'o', 'h', 't', 'y', 'p')\n",
        " \n",
        "7.write a python program to convert a list to a tuple.\n",
        "In [14]:\n",
        "listx = [5, 10, 7, 4, 15, 3]\n",
        "tuplex = tuple(listx)\n",
        "print(tuplex)\n",
        "(5, 10, 7, 4, 15, 3)"
      ],
      "execution_count": null,
      "outputs": []
    }
  ]
}