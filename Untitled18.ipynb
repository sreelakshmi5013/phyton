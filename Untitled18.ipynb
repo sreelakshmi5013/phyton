{
  "nbformat": 4,
  "nbformat_minor": 0,
  "metadata": {
    "colab": {
      "name": "Untitled18.ipynb",
      "provenance": [],
      "authorship_tag": "ABX9TyObPw8rcsr4vwgn6IRZrnKm",
      "include_colab_link": true
    },
    "kernelspec": {
      "name": "python3",
      "display_name": "Python 3"
    }
  },
  "cells": [
    {
      "cell_type": "markdown",
      "metadata": {
        "id": "view-in-github",
        "colab_type": "text"
      },
      "source": [
        "<a href=\"https://colab.research.google.com/github/sreelakshmi5013/phyton/blob/master/Untitled18.ipynb\" target=\"_parent\"><img src=\"https://colab.research.google.com/assets/colab-badge.svg\" alt=\"Open In Colab\"/></a>"
      ]
    },
    {
      "cell_type": "code",
      "metadata": {
        "id": "SPaia-bvyE1l",
        "colab_type": "code",
        "colab": {}
      },
      "source": [
        " \n",
        "Q... What is dictionary in python? Explain with an example.\n",
        "A dictionary is an associative array (also known as hashes). Any key of the dictionary is associated (or mapped) to a value. The values of a dictionary can be any Python data type. So dictionaries are unordered key-value-pairs.Dictionaries belong to the built-in mapping type.\n",
        "In [13]:\n",
        "# Example for dictionary in python.\n",
        "\n",
        "mydict = {'StuName': 'Ajeet', 'StuAge': 30, 'StuCity': 'Agra'}\n",
        "print(\"Student Age is:\", mydict['StuAge'])\n",
        "print(\"Student City is:\", mydict['StuCity'])\n",
        "Student Age is: 30\n",
        "Student City is: Agra\n",
        "\n",
        "In [2]:\n",
        "# Python program to sum all the items in a list.\n",
        "\n",
        "def sum_list(items):\n",
        "    sum_numbers = 0\n",
        "    for x in items:\n",
        "        sum_numbers += x\n",
        "    return sum_numbers\n",
        "print(sum_list([1,6,-2]))\n",
        "5\n",
        "\n",
        "In [4]:\n",
        "# Python program to create a list of empty dictionaries.\n",
        "\n",
        "n = int(input(\"Enter the number of dictionaries need to be created: \"))\n",
        "l = [{} for _ in range(n)]\n",
        "print(l)\n",
        "Enter the number of dictionaries need to be created: 10\n",
        "[{}, {}, {}, {}, {}, {}, {}, {}, {}, {}]\n",
        "\n",
        "In [6]:\n",
        "# Python program to access dictionary keys element by index.\n",
        "\n",
        "num = {'Python': 80, 'math': 90, 'chemistry': 86}\n",
        "print(list(num)[0])\n",
        "Python\n",
        "\n",
        "In [8]:\n",
        "# Python program to sum all the items in a dictionary.\n",
        "\n",
        "my_dict = {'data1':10,'data2':-54,'data3':258}\n",
        "print(sum(my_dict.values()))\n",
        "214\n",
        "\n",
        "In [10]:\n",
        "# Python program concatenate following dictionaries to create a new one.\n",
        "\n",
        "dic1={1:10, 2:20}\n",
        "dic2={3:30, 4:40}\n",
        "dic3={5:50,6:60}\n",
        "dic4={}\n",
        "for d in (dic1, dic2): dic4.update(d)\n",
        "print(dic4)\n",
        "{1: 10, 2: 20, 3: 30, 4: 40}"
      ],
      "execution_count": null,
      "outputs": []
    }
  ]
}