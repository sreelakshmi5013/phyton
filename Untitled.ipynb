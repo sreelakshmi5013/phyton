{
  "nbformat": 4,
  "nbformat_minor": 0,
  "metadata": {
    "colab": {
      "name": "Untitled",
      "provenance": [],
      "authorship_tag": "ABX9TyMyaz5Xpd2TQWakDatnj/7R",
      "include_colab_link": true
    },
    "kernelspec": {
      "name": "python3",
      "display_name": "Python 3"
    }
  },
  "cells": [
    {
      "cell_type": "markdown",
      "metadata": {
        "id": "view-in-github",
        "colab_type": "text"
      },
      "source": [
        "<a href=\"https://colab.research.google.com/github/sreelakshmi5013/phyton/blob/master/Untitled.ipynb\" target=\"_parent\"><img src=\"https://colab.research.google.com/assets/colab-badge.svg\" alt=\"Open In Colab\"/></a>"
      ]
    },
    {
      "cell_type": "code",
      "metadata": {
        "id": "iuBZbYzwQga0",
        "colab_type": "code",
        "colab": {}
      },
      "source": [
        " \n",
        "In [ ]:\n",
        "# Python program to find the Max of three numbers.\n",
        " \n",
        "def max_of_two( x, y ):\n",
        "    if x > y:\n",
        "        return x\n",
        "    return y\n",
        "def max_of_three( x, y, z ):\n",
        "    return max_of_two( x, max_of_two( y, z ) )\n",
        "print(max_of_three(1, 2, -5))\n",
        "2\n",
        " \n",
        "In [2]:\n",
        "# Python program to reverse a string.\n",
        " \n",
        "s=str(input(\"Enter the string\"))\n",
        "print(s[::-1])\n",
        "Enter the stringmanideep\n",
        "peedinam\n",
        " \n",
        "In [8]:\n",
        "# Python program to check if a number is prime or not\n",
        " \n",
        "num = int(input(\"Enter a number: \"))\n",
        "if num > 1:\n",
        "   for i in range(2,num):\n",
        "       if (num % i) == 0:\n",
        "           print(num,\"is not a prime number\")\n",
        "           print(i,\"times\",num//i,\"is\",num)\n",
        "           break\n",
        "   else:\n",
        "       print(num,\"is a prime number\")\n",
        "else:\n",
        "   print(num,\"is not a prime number\")\n",
        "Enter a number: 6\n",
        "6 is not a prime number\n",
        "2 times 3 is 6\n",
        " \n",
        "In [20]:\n",
        "# Python program to find sum of squares of first n natural numbers\n",
        " \n",
        "n=int(input(\"Enter the n value: \"))\n",
        "def sqsum(n) :\n",
        "   sm = 0\n",
        "   for i in range(1, n+1) :\n",
        "      sm = sm + pow(i,2)\n",
        "   return sm\n",
        "print(sqsum(n))\n",
        "Enter the n value: 6\n",
        "91\n",
        " \n",
        "In [ ]:"
      ],
      "execution_count": null,
      "outputs": []
    }
  ]
}